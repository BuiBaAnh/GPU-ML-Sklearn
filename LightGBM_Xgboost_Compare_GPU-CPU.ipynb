{
 "cells": [
  {
   "cell_type": "code",
   "execution_count": null,
   "metadata": {
    "colab": {
     "base_uri": "https://localhost:8080/"
    },
    "executionInfo": {
     "elapsed": 3369,
     "status": "ok",
     "timestamp": 1654195376904,
     "user": {
      "displayName": "Bùi Bá Anh",
      "userId": "03116932630595261196"
     },
     "user_tz": -420
    },
    "id": "puaT4epMw2zw",
    "outputId": "c2a883d7-46b3-4d04-df9c-8c63d90c8cd6"
   },
   "outputs": [],
   "source": [
    "from google.colab import drive\n",
    "drive.mount('/content/drive')"
   ]
  },
  {
   "cell_type": "code",
   "execution_count": null,
   "metadata": {
    "colab": {
     "base_uri": "https://localhost:8080/"
    },
    "executionInfo": {
     "elapsed": 5,
     "status": "ok",
     "timestamp": 1654195376905,
     "user": {
      "displayName": "Bùi Bá Anh",
      "userId": "03116932630595261196"
     },
     "user_tz": -420
    },
    "id": "Y6_x1Po24Jhk",
    "outputId": "9c04312f-0e86-4d26-dca5-4227d57e7e95"
   },
   "outputs": [],
   "source": [
    "cd /content/drive/MyDrive/Colab\\ Notebooks/GradientBoostGPU"
   ]
  },
  {
   "cell_type": "code",
   "execution_count": null,
   "metadata": {
    "id": "ke7UTaN2526q"
   },
   "outputs": [],
   "source": [
    "import numpy as np\n",
    "import pandas as pd\n",
    "import matplotlib.pyplot as plt\n",
    "import seaborn as sns\n",
    "plt.style.use('ggplot')\n",
    "from sklearn.base import BaseEstimator\n",
    "from sklearn.base import TransformerMixin\n",
    "from sklearn.preprocessing import StandardScaler\n",
    "from sklearn.preprocessing import FunctionTransformer\n",
    "from sklearn.pipeline import Pipeline\n",
    "from sklearn.pipeline import FeatureUnion\n",
    "from sklearn.model_selection import train_test_split\n",
    "from sklearn.model_selection import cross_val_score\n",
    "from sklearn.model_selection import KFold\n",
    "from sklearn.model_selection import StratifiedKFold\n",
    "from sklearn.model_selection import RandomizedSearchCV, GridSearchCV\n",
    "from sklearn.metrics import make_scorer\n",
    "from sklearn.metrics import accuracy_score\n",
    "from sklearn.metrics import classification_report\n",
    "from sklearn.metrics import confusion_matrix\n",
    "from sklearn.tree import DecisionTreeClassifier\n",
    "from sklearn.ensemble import RandomForestClassifier\n",
    "from sklearn.ensemble import BaggingClassifier"
   ]
  },
  {
   "cell_type": "code",
   "execution_count": null,
   "metadata": {
    "id": "FvM6fRKC7Er5"
   },
   "outputs": [],
   "source": [
    "from sklearn.base import BaseEstimator\n",
    "from sklearn.base import TransformerMixin\n",
    "from sklearn.preprocessing import StandardScaler\n",
    "from sklearn.preprocessing import FunctionTransformer\n",
    "from sklearn.pipeline import Pipeline\n",
    "from sklearn.pipeline import FeatureUnion\n",
    "from sklearn.model_selection import train_test_split\n",
    "from sklearn.model_selection import cross_val_score\n",
    "from sklearn.model_selection import KFold\n",
    "from sklearn.model_selection import StratifiedKFold\n",
    "from sklearn.model_selection import RandomizedSearchCV, GridSearchCV\n",
    "from sklearn.metrics import make_scorer\n",
    "from sklearn.metrics import accuracy_score\n",
    "from sklearn.metrics import classification_report\n",
    "from sklearn.metrics import confusion_matrix\n",
    "from sklearn.tree import DecisionTreeClassifier\n",
    "from sklearn.ensemble import RandomForestClassifier\n",
    "from sklearn.ensemble import BaggingClassifier"
   ]
  },
  {
   "cell_type": "code",
   "execution_count": null,
   "metadata": {
    "colab": {
     "base_uri": "https://localhost:8080/"
    },
    "executionInfo": {
     "elapsed": 2,
     "status": "ok",
     "timestamp": 1654195382658,
     "user": {
      "displayName": "Bùi Bá Anh",
      "userId": "03116932630595261196"
     },
     "user_tz": -420
    },
    "id": "xI7aMWQi4Jkh",
    "outputId": "59346b95-d0c7-4f39-a0cd-e5daaae0ed76"
   },
   "outputs": [],
   "source": [
    "# load the dataset\n",
    "income = pd.read_csv(\"./adult.csv\")\n",
    "income.info()\n"
   ]
  },
  {
   "cell_type": "code",
   "execution_count": null,
   "metadata": {
    "colab": {
     "base_uri": "https://localhost:8080/",
     "height": 340
    },
    "executionInfo": {
     "elapsed": 17,
     "status": "ok",
     "timestamp": 1654195383700,
     "user": {
      "displayName": "Bùi Bá Anh",
      "userId": "03116932630595261196"
     },
     "user_tz": -420
    },
    "id": "5iAjljunZNTn",
    "outputId": "1da835e2-fc25-4e85-ef36-020980892500"
   },
   "outputs": [],
   "source": [
    "income.head()"
   ]
  },
  {
   "cell_type": "code",
   "execution_count": null,
   "metadata": {
    "id": "0Nia0ugg4JnT"
   },
   "outputs": [],
   "source": [
    "class FeatureSelector(BaseEstimator, TransformerMixin):\n",
    "    #Class Constructor \n",
    "    def __init__(self, feature_names):\n",
    "        self.feature_names = feature_names\n",
    "    #Return self nothing else to do here    \n",
    "    def fit(self, X, y = None):\n",
    "        return self\n",
    "    #Method that describes what we need this transformer to do\n",
    "    def transform(self, X, y = None):\n",
    "        return X[self.feature_names]\n",
    "\n",
    "\n",
    "# converts certain features to categorical\n",
    "class CategoricalTransformer( BaseEstimator, TransformerMixin ):\n",
    "    #Class constructor method that takes a boolean as its argument\n",
    "    def __init__(self, new_features=True):\n",
    "        self.new_features = new_features\n",
    "    #Return self nothing else to do here    \n",
    "    def fit( self, X, y = None ):\n",
    "        return self\n",
    "    #Transformer method we wrote for this transformer \n",
    "    def transform(self, X , y = None ):\n",
    "        df = X.copy()\n",
    "        if self.new_features:\n",
    "            # Treat ? workclass as unknown\n",
    "            df['workclass']= df['workclass'].replace('?','Unknown') \n",
    "            df['occupation']= df['occupation'].replace('?','Unknown') \n",
    "            # Two many category level, convert just US and Non-US\n",
    "            df.loc[df['native.country']!=' United-States','native.country'] = 'non_usa'\n",
    "            df.loc[df['native.country']==' United-States','native.country'] = 'usa'\n",
    "        # convert columns to categorical\n",
    "        for name in df.columns.to_list():\n",
    "            col = pd.Categorical(df[name])\n",
    "            df[name] = col.codes\n",
    "        # returns numpy array\n",
    "        return df"
   ]
  },
  {
   "cell_type": "code",
   "execution_count": null,
   "metadata": {
    "colab": {
     "base_uri": "https://localhost:8080/",
     "height": 340
    },
    "executionInfo": {
     "elapsed": 8,
     "status": "ok",
     "timestamp": 1654195392697,
     "user": {
      "displayName": "Bùi Bá Anh",
      "userId": "03116932630595261196"
     },
     "user_tz": -420
    },
    "id": "etc8Y4Vp4Jp7",
    "outputId": "6f984c1e-0c99-4a6e-8853-64e5997d694c"
   },
   "outputs": [],
   "source": [
    "# Create the X feature matrix and the y target vector\n",
    "X = income.drop(labels=\"income\", axis=1)\n",
    "y = income[\"income\"]\n",
    "# the only step necessary to be done outside of pipeline\n",
    "# convert the target column to categorical\n",
    "col = pd.Categorical(y)\n",
    "y = pd.Series(col.codes)\n",
    "# global variables\n",
    "seed = 108\n",
    "X.head()"
   ]
  },
  {
   "cell_type": "code",
   "execution_count": null,
   "metadata": {
    "id": "bn-LO5Md4Jsy"
   },
   "outputs": [],
   "source": [
    "# get the categorical feature names\n",
    "categorical_features = X.select_dtypes(\"object\").columns.to_list()\n",
    "# get the numerical feature names\n",
    "numerical_features = X.select_dtypes(\"int64\").columns.to_list()\n",
    "# create the steps for the categorical pipeline\n",
    "categorical_steps = [\n",
    "    ('cat_selector', FeatureSelector(categorical_features)),\n",
    "    ('cat_transformer', CategoricalTransformer())\n",
    "]\n",
    "# create the steps for the numerical pipeline\n",
    "numerical_steps = [\n",
    "    ('num_selector', FeatureSelector(numerical_features)),\n",
    "    ('std_scaler', StandardScaler()),\n",
    "]\n",
    "# create the 2 pipelines with the respective steps\n",
    "categorical_pipeline = Pipeline(categorical_steps)\n",
    "numerical_pipeline = Pipeline(numerical_steps)"
   ]
  },
  {
   "cell_type": "code",
   "execution_count": null,
   "metadata": {
    "id": "z88PUAc34JvT"
   },
   "outputs": [],
   "source": [
    "pipeline_list = [\n",
    "    ('categorical_pipeline', categorical_pipeline),\n",
    "    ('numerical_pipeline', numerical_pipeline)\n",
    "]\n",
    "# Combining the 2 pieplines horizontally into one full pipeline \n",
    "preprocessing_pipeline =FeatureUnion(transformer_list=pipeline_list)"
   ]
  },
  {
   "cell_type": "code",
   "execution_count": null,
   "metadata": {
    "id": "Wf07eI_J4Jxz"
   },
   "outputs": [],
   "source": [
    "# validate the preprocessing pipeline by passing data through it\n",
    "clean_X = preprocessing_pipeline.fit_transform(X)\n",
    "clean_X_df = pd.DataFrame(clean_X, columns=X.columns)\n",
    "# split the clean_X into train and test sets\n",
    "X_train, X_test, y_train, y_test = train_test_split(clean_X, y, test_size=0.20, random_state=seed, shuffle=True, stratify=y)"
   ]
  },
  {
   "cell_type": "markdown",
   "metadata": {
    "id": "pZ9WLDC2b2yr"
   },
   "source": [
    "<h1> XGBOOST\n",
    "\n"
   ]
  },
  {
   "cell_type": "code",
   "execution_count": null,
   "metadata": {
    "colab": {
     "base_uri": "https://localhost:8080/"
    },
    "executionInfo": {
     "elapsed": 8872,
     "status": "ok",
     "timestamp": 1654193355142,
     "user": {
      "displayName": "Bùi Bá Anh",
      "userId": "03116932630595261196"
     },
     "user_tz": -420
    },
    "id": "pLDgQLgbCYhk",
    "outputId": "efc012ea-5f33-4ca4-eeb3-f57e261cccf1"
   },
   "outputs": [],
   "source": [
    "import time\n",
    "from xgboost import XGBClassifier\n",
    "# create a default XGBoost classifier\n",
    "model = XGBClassifier(n_estimators=500, random_state=seed)\n",
    "# define the eval set and metric\n",
    "eval_set = [(X_train, y_train), (X_test, y_test)]\n",
    "eval_metric = [\"auc\",\"error\"]\n",
    "# fit the model\n",
    "%time model.fit(X_train, y_train, eval_metric=eval_metric, eval_set=eval_set, verbose=False)"
   ]
  },
  {
   "cell_type": "code",
   "execution_count": null,
   "metadata": {
    "colab": {
     "base_uri": "https://localhost:8080/"
    },
    "executionInfo": {
     "elapsed": 931,
     "status": "ok",
     "timestamp": 1654170576896,
     "user": {
      "displayName": "Bùi Bá Anh",
      "userId": "03116932630595261196"
     },
     "user_tz": -420
    },
    "id": "qXpDNqmECYjy",
    "outputId": "aee8475b-71db-4468-ee73-3abf40152aa4"
   },
   "outputs": [],
   "source": [
    "# final model assessment\n",
    "pred_test = model.predict(X_test)\n",
    "pred_train = model.predict(X_train)\n",
    "print('Train Accuracy: ', accuracy_score(y_train, pred_train))\n",
    "print('Test Accuraccy: ', accuracy_score(y_test, pred_test))\n",
    "print('Classification Report:')\n",
    "print(classification_report(y_test,pred_test))"
   ]
  },
  {
   "cell_type": "code",
   "execution_count": null,
   "metadata": {
    "colab": {
     "base_uri": "https://localhost:8080/",
     "height": 372
    },
    "executionInfo": {
     "elapsed": 21,
     "status": "ok",
     "timestamp": 1654170576897,
     "user": {
      "displayName": "Bùi Bá Anh",
      "userId": "03116932630595261196"
     },
     "user_tz": -420
    },
    "id": "yKRGnPQM4J0t",
    "outputId": "fe0101e8-c657-4f28-ce1a-2c193345b318"
   },
   "outputs": [],
   "source": [
    "# retrieve performance metrics\n",
    "results = model.evals_result()\n",
    "epochs = len(results['validation_0']['error'])\n",
    "x_axis = range(0, epochs)\n",
    "fig, ax = plt.subplots(1, 2, figsize=(15,5))\n",
    "# plot auc\n",
    "ax[0].plot(x_axis, results['validation_0']['auc'], label='Train')\n",
    "ax[0].plot(x_axis, results['validation_1']['auc'], label='Test')\n",
    "ax[0].legend()\n",
    "ax[0].set_title('XGBoost AUC-ROC')\n",
    "ax[0].set_ylabel('AUC-ROC')\n",
    "ax[0].set_xlabel('N estimators')\n",
    "# plot classification error\n",
    "ax[1].plot(x_axis, results['validation_0']['error'], label='Train')\n",
    "ax[1].plot(x_axis, results['validation_1']['error'], label='Test')\n",
    "ax[1].legend()\n",
    "ax[1].set_title('XGBoost Classification Error')\n",
    "ax[1].set_ylabel('Classification Error')\n",
    "ax[1].set_xlabel('N estimators')\n",
    "plt.show()\n",
    "plt.tight_layout()"
   ]
  },
  {
   "cell_type": "code",
   "execution_count": null,
   "metadata": {
    "colab": {
     "base_uri": "https://localhost:8080/",
     "height": 236
    },
    "executionInfo": {
     "elapsed": 510,
     "status": "error",
     "timestamp": 1654193271074,
     "user": {
      "displayName": "Bùi Bá Anh",
      "userId": "03116932630595261196"
     },
     "user_tz": -420
    },
    "id": "_vek8ZlUEE2u",
    "outputId": "b30c0510-9783-4af8-be2f-2e2eec9366d1"
   },
   "outputs": [],
   "source": [
    "# create a default XGBoost classifier\n",
    "model = XGBClassifier(\n",
    "    tree_method = \"gpu_hist\",\n",
    "    random_state=seed, \n",
    "    eval_metric=[\"error\", \"auc\"]\n",
    ")\n",
    "# Create the grid search parameter grid and scoring funcitons\n",
    "param_grid = {\n",
    "    \"learning_rate\": [0.1, 0.01],\n",
    "    \"colsample_bytree\": [0.6, 0.8, 1.0],\n",
    "    \"subsample\": [0.6, 0.8, 1.0],\n",
    "    \"max_depth\": [2, 3, 4],\n",
    "    \"n_estimators\": [100, 200, 300, 400],\n",
    "    \"reg_lambda\": [1, 1.5, 2],\n",
    "    \"gamma\": [0, 0.1, 0.3],\n",
    "}\n",
    "scoring = {\n",
    "    'AUC': 'roc_auc', \n",
    "    'Accuracy': make_scorer(accuracy_score)\n",
    "}\n",
    "# create the Kfold object\n",
    "num_folds = 5\n",
    "kfold = StratifiedKFold(n_splits=num_folds, random_state=seed, shuffle = True)\n",
    "# create the grid search object\n",
    "n_iter=100\n",
    "grid = RandomizedSearchCV(\n",
    "    estimator=model, \n",
    "    param_distributions=param_grid,\n",
    "    cv=kfold,\n",
    "    scoring=scoring,\n",
    "    n_jobs=-1,\n",
    "    n_iter=n_iter,\n",
    "    refit=\"AUC\",\n",
    "    verbose = True\n",
    ")\n",
    "# fit grid search\n",
    "fit_params={\"eval_metric\" : 'auc', \n",
    "            'verbose': 100,}\n",
    "%time best_model = grid.fit(X_train,y_train, **fit_params)"
   ]
  },
  {
   "cell_type": "code",
   "execution_count": null,
   "metadata": {
    "colab": {
     "base_uri": "https://localhost:8080/"
    },
    "executionInfo": {
     "elapsed": 8,
     "status": "ok",
     "timestamp": 1654172078746,
     "user": {
      "displayName": "Bùi Bá Anh",
      "userId": "03116932630595261196"
     },
     "user_tz": -420
    },
    "id": "6ic__iCrEE42",
    "outputId": "54f3932c-35a1-4932-a48e-e2678d38094e"
   },
   "outputs": [],
   "source": [
    "pred_test = best_model.predict(X_test)\n",
    "pred_train = best_model.predict(X_train)\n",
    "print('Train Accuracy: ', accuracy_score(y_train, pred_train))\n",
    "print('Test Accuraccy: ', accuracy_score(y_test, pred_test))\n",
    "print('\\nConfusion Matrix:')\n",
    "print(confusion_matrix(y_test,pred_test))\n",
    "print('\\nClassification Report:')\n",
    "print(classification_report(y_test,pred_test))"
   ]
  },
  {
   "cell_type": "markdown",
   "metadata": {
    "id": "nBwFm9NXb806"
   },
   "source": [
    "<h1> LIGHTGBM"
   ]
  },
  {
   "cell_type": "code",
   "execution_count": null,
   "metadata": {
    "id": "mcY0z2XnEE7E"
   },
   "outputs": [],
   "source": [
    "import lightgbm as lgb"
   ]
  },
  {
   "cell_type": "code",
   "execution_count": null,
   "metadata": {
    "colab": {
     "base_uri": "https://localhost:8080/"
    },
    "executionInfo": {
     "elapsed": 97061,
     "status": "ok",
     "timestamp": 1654194081897,
     "user": {
      "displayName": "Bùi Bá Anh",
      "userId": "03116932630595261196"
     },
     "user_tz": -420
    },
    "id": "IjkjQcyVe-AU",
    "outputId": "8d783004-37bb-48bb-8ba9-157d0431fab6"
   },
   "outputs": [],
   "source": [
    "! git clone --recursive https://github.com/Microsoft/LightGBM\n"
   ]
  },
  {
   "cell_type": "code",
   "execution_count": null,
   "metadata": {
    "colab": {
     "base_uri": "https://localhost:8080/"
    },
    "executionInfo": {
     "elapsed": 158884,
     "status": "ok",
     "timestamp": 1654194259234,
     "user": {
      "displayName": "Bùi Bá Anh",
      "userId": "03116932630595261196"
     },
     "user_tz": -420
    },
    "id": "-vzHxhappQzY",
    "outputId": "357c4a02-930a-4e8f-85f8-46fa00b6c9bc"
   },
   "outputs": [],
   "source": [
    "! cd LightGBM && rm -rf build && mkdir build && cd build && cmake -DUSE_GPU=1 ../../LightGBM && make -j4 && cd ../python-package && python3 setup.py install --precompile --gpu;\n"
   ]
  },
  {
   "cell_type": "code",
   "execution_count": null,
   "metadata": {
    "colab": {
     "base_uri": "https://localhost:8080/"
    },
    "executionInfo": {
     "elapsed": 1051,
     "status": "ok",
     "timestamp": 1654195458586,
     "user": {
      "displayName": "Bùi Bá Anh",
      "userId": "03116932630595261196"
     },
     "user_tz": -420
    },
    "id": "qjwQ77COEE-n",
    "outputId": "ed2d9a1d-9843-4aab-ad6e-d03b7376fb1a"
   },
   "outputs": [],
   "source": [
    "model = lgb.LGBMClassifier(objective=\"binary\", seed= seed, metrics=\"binary_logloss\", tree_learner= \"voting\",  early_stopping_rounds = 2, devide_type = 'gpu')\n",
    "eval_set = [(X_train, y_train), (X_test, y_test)]\n",
    "eval_metric = [\"auc\", \"error\"]\n",
    "# fit the model\n",
    "%time model.fit(X_train, y_train, eval_metric=eval_metric, eval_set=eval_set)"
   ]
  },
  {
   "cell_type": "code",
   "execution_count": null,
   "metadata": {
    "colab": {
     "base_uri": "https://localhost:8080/"
    },
    "executionInfo": {
     "elapsed": 487,
     "status": "ok",
     "timestamp": 1654195463084,
     "user": {
      "displayName": "Bùi Bá Anh",
      "userId": "03116932630595261196"
     },
     "user_tz": -420
    },
    "id": "aQrYjm9AEFA8",
    "outputId": "e4c2988b-b29d-4b80-98b5-126c0de4d771"
   },
   "outputs": [],
   "source": [
    "# final model assessment\n",
    "pred_test = model.predict(X_test)\n",
    "pred_train = model.predict(X_train)\n",
    "print('Train Accuracy: ', accuracy_score(y_train, pred_train))\n",
    "print('Test Accuraccy: ', accuracy_score(y_test, pred_test))\n",
    "print('Classification Report:')\n",
    "print(classification_report(y_test,pred_test))"
   ]
  },
  {
   "cell_type": "code",
   "execution_count": null,
   "metadata": {
    "colab": {
     "base_uri": "https://localhost:8080/",
     "height": 371
    },
    "executionInfo": {
     "elapsed": 1217,
     "status": "ok",
     "timestamp": 1654195479213,
     "user": {
      "displayName": "Bùi Bá Anh",
      "userId": "03116932630595261196"
     },
     "user_tz": -420
    },
    "id": "d_r9dcAbeRle",
    "outputId": "14cc8572-9a07-46ee-972f-6c38ebb943ba"
   },
   "outputs": [],
   "source": [
    "# retrieve performance metrics\n",
    "results = model.evals_result_\n",
    "epochs = len(results['valid_1']['auc'])\n",
    "x_axis = range(0, epochs)\n",
    "fig, ax = plt.subplots(1, 2, figsize=(15,5))\n",
    "# plot auc\n",
    "ax[0].plot(x_axis, results['training']['auc'], label='Train')\n",
    "ax[0].plot(x_axis, results['valid_1']['auc'], label='Test')\n",
    "ax[0].legend()\n",
    "ax[0].set_title('LIGHTGBM AUC-ROC')\n",
    "ax[0].set_ylabel('AUC-ROC')\n",
    "ax[0].set_xlabel('N estimators')\n",
    "# plot classification error\n",
    "ax[1].plot(x_axis, results['training']['binary_logloss'], label='Train')\n",
    "ax[1].plot(x_axis, results['valid_1']['binary_logloss'], label='Test')\n",
    "ax[1].legend()\n",
    "ax[1].set_title('LIGHTGBM Classification Error')\n",
    "ax[1].set_ylabel('Classification Error')\n",
    "ax[1].set_xlabel('N estimators')\n",
    "plt.show()\n",
    "plt.tight_layout()"
   ]
  },
  {
   "cell_type": "code",
   "execution_count": null,
   "metadata": {
    "colab": {
     "base_uri": "https://localhost:8080/"
    },
    "executionInfo": {
     "elapsed": 138585,
     "status": "ok",
     "timestamp": 1654196455294,
     "user": {
      "displayName": "Bùi Bá Anh",
      "userId": "03116932630595261196"
     },
     "user_tz": -420
    },
    "id": "U2_3U27Ze98K",
    "outputId": "9dc6f585-c373-4253-f6a3-6d44a78c9aaf"
   },
   "outputs": [],
   "source": [
    "# create a default LIGHTGBM classifier\n",
    "model = lgb.LGBMClassifier(objective=\"binary\", seed= seed, metrics=\"binary_logloss\", tree_learner= \"voting\", device_type = 'gpu')\n",
    "eval_set = [(X_train, y_train), (X_test, y_test)]\n",
    "eval_metric = [\"auc\", \"error\"]\n",
    "# Create the grid search parameter grid and scoring funcitons\n",
    "param_grid = {\n",
    "    \"learning_rate\": [0.1, 0.01],\n",
    "    \"colsample_bytree\": [0.6, 0.8, 1.0],\n",
    "    \"subsample\": [0.6, 0.8, 1.0],\n",
    "    \"max_depth\": [2, 3, 4],\n",
    "    \"n_estimators\": [100, 200, 300, 400],\n",
    "    \"reg_lambda\": [1, 1.5, 2],\n",
    "    \"gamma\": [0, 0.1, 0.3],\n",
    "}\n",
    "scoring = {\n",
    "    'AUC': 'roc_auc', \n",
    "    'Accuracy': make_scorer(accuracy_score)\n",
    "}\n",
    "# create the Kfold object\n",
    "num_folds = 10\n",
    "kfold = StratifiedKFold(n_splits=num_folds, random_state=seed, shuffle = True)\n",
    "# create the grid search object\n",
    "n_iter=10\n",
    "grid = RandomizedSearchCV(\n",
    "    estimator=model, \n",
    "    param_distributions=param_grid,\n",
    "    # param_grid = param_grid,\n",
    "    cv=kfold,\n",
    "    scoring=scoring,\n",
    "    n_jobs=-1,\n",
    "    n_iter=n_iter,\n",
    "    refit=\"AUC\",\n",
    "    verbose = 10\n",
    ")\n",
    "# fit grid search\n",
    "fit_params={\"eval_metric\" : 'auc'}\n",
    "%time best_model = grid.fit(X_train,y_train, eval_set=eval_set, **fit_params)"
   ]
  },
  {
   "cell_type": "code",
   "execution_count": null,
   "metadata": {
    "colab": {
     "base_uri": "https://localhost:8080/"
    },
    "executionInfo": {
     "elapsed": 1038,
     "status": "ok",
     "timestamp": 1654196465330,
     "user": {
      "displayName": "Bùi Bá Anh",
      "userId": "03116932630595261196"
     },
     "user_tz": -420
    },
    "id": "CPoae4Vie9-X",
    "outputId": "0091c912-4f88-48f7-f6ac-6e5893efbe67"
   },
   "outputs": [],
   "source": [
    "# final model assessment\n",
    "pred_test = best_model.predict(X_test)\n",
    "pred_train = best_model.predict(X_train)\n",
    "print('Train Accuracy: ', accuracy_score(y_train, pred_train))\n",
    "print('Test Accuraccy: ', accuracy_score(y_test, pred_test))\n",
    "print('Classification Report:')\n",
    "print(classification_report(y_test,pred_test))"
   ]
  },
  {
   "cell_type": "code",
   "execution_count": null,
   "metadata": {
    "id": "WezsFuwUpQ1c"
   },
   "outputs": [],
   "source": []
  }
 ],
 "metadata": {
  "accelerator": "GPU",
  "colab": {
   "authorship_tag": "ABX9TyMrDhqKb2Fp0XEzx28113Wm",
   "provenance": []
  },
  "kernelspec": {
   "display_name": "Python 3 (ipykernel)",
   "language": "python",
   "name": "python3"
  },
  "language_info": {
   "codemirror_mode": {
    "name": "ipython",
    "version": 3
   },
   "file_extension": ".py",
   "mimetype": "text/x-python",
   "name": "python",
   "nbconvert_exporter": "python",
   "pygments_lexer": "ipython3",
   "version": "3.9.5"
  }
 },
 "nbformat": 4,
 "nbformat_minor": 1
}
